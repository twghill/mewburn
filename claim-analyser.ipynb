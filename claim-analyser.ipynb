{
 "cells": [
  {
   "cell_type": "markdown",
   "metadata": {},
   "source": [
    "# Claim Analyser\n",
    "\n",
    "Last updated: 30 January 2022\n",
    "\n",
    "### Description\n",
    "\n",
    "The first part of this tool allows a user to define a claim set and view a list of valid claim combinations. The second part of this tool allows a user to define a new independent claim consisting of a valid combination of original claims and view a list of new proper dependent claims. As with any computer based analysis tool, the old adage \"garbage in, garbage out\" remains true so please make sure you have entered your input data correctly.\n",
    "\n",
    "### Usage\n",
    "\n",
    "This tool is written in Python and runs in a Jupyter notebook. All code is visible for inspection by the user. Code is written in cells that may be modified by the user. A cell can be run by selecting it with the cursor and clicking the run button in the toolbar denoted by a play button or via the key combination 'ctrl' + 'enter'. Data is shared between cells so they must be run in chronilogical order. This is important when data is modified by the user.\n",
    "\n",
    "### Definitions\n",
    "\n",
    "For descriptive purposes the following definitions are introduced:\n",
    "- Proper dependent claim - a dependent claim that makes dependent reference to a single claim\n",
    "- Semi-proper dependent claim - a dependent claim that makes valid dependent reference to multiple claims where any referenced dependent claims are proper dependent claims\n",
    "- Improper dependent claim - a dependent claim that makes valid dependent reference to multiple claims where at least one of the referenced claims is a semi-proper dependent claim\n",
    "\n",
    "Note: Examples of \"valid dependent reference\" include \"according to any one of\" and \"or\" implicitly used in its exclusive form."
   ]
  },
  {
   "cell_type": "markdown",
   "metadata": {},
   "source": [
    "## Part I\n",
    "\n",
    "In the cell directly below, the user must define the claim set. Claims are written in a list format with the first element denoting the claim number and any subsequent elements defining the one or more claims the claim is dependent on. The first claim must be the only independent claim. After each claim is defined, all the claims are combined into a claim set for analysis. Once you have defined the claims, make sure to run the cell."
   ]
  },
  {
   "cell_type": "code",
   "execution_count": 39,
   "metadata": {},
   "outputs": [],
   "source": [
    "# Define claims (KLD's example)\n",
    "c1 = [1]\n",
    "c2 = [2,1]\n",
    "c3 = [3,1,2]\n",
    "c4 = [4,1,2]\n",
    "c5 = [5,1,2]\n",
    "c6 = [6,1,2,3,4,5]\n",
    "\n",
    "# Define claim set\n",
    "claims = [c1,c2,c3,c4,c5,c6]"
   ]
  },
  {
   "cell_type": "markdown",
   "metadata": {},
   "source": [
    "Run the following cell to generate valid claim combinations."
   ]
  },
  {
   "cell_type": "code",
   "execution_count": 40,
   "metadata": {},
   "outputs": [
    {
     "name": "stdout",
     "output_type": "stream",
     "text": [
      "Total valid claim combinations: 16\n",
      "List of valid claim combinations:\n",
      "001: [1]\n",
      "002: [1, 2]\n",
      "003: [1, 3]\n",
      "004: [1, 2, 3]\n",
      "005: [1, 4]\n",
      "006: [1, 2, 4]\n",
      "007: [1, 5]\n",
      "008: [1, 2, 5]\n",
      "009: [1, 6]\n",
      "010: [1, 2, 6]\n",
      "011: [1, 3, 6]\n",
      "012: [1, 2, 3, 6]\n",
      "013: [1, 4, 6]\n",
      "014: [1, 2, 4, 6]\n",
      "015: [1, 5, 6]\n",
      "016: [1, 2, 5, 6]\n"
     ]
    }
   ],
   "source": [
    "# Part I - DO NOT EDIT\n",
    "\n",
    "import copy\n",
    "\n",
    "# Generate all valid claim combinations\n",
    "combos = []\n",
    "\n",
    "for claim in claims:\n",
    "    if len(claim) == 1:\n",
    "        combos.append(claim)\n",
    "    if len(claim) >= 2:\n",
    "        for ref in range(1,len(claim)):\n",
    "            for combo in combos:\n",
    "                newcombo = copy.copy(combo)\n",
    "                if claim[ref] == combo[-1]:\n",
    "                    newcombo.append(claim[0])\n",
    "                    combos.append(newcombo)\n",
    "\n",
    "print(\"Total valid claim combinations:\", len(combos))\n",
    "print(\"List of valid claim combinations:\")\n",
    "for n in range(0,len(combos)):\n",
    "    print(\"{:03}: {}\".format(n+1, combos[n]))"
   ]
  },
  {
   "cell_type": "markdown",
   "metadata": {},
   "source": [
    "## Part II\n",
    "\n",
    "In the cell directly below, the user must define the new independent claim as a list of previous claims starting with the independent claim. Thus this new claim will consist of the features of all the claims contained within the list. After you have defined the new independent claim, make sure to run the cell."
   ]
  },
  {
   "cell_type": "code",
   "execution_count": 41,
   "metadata": {},
   "outputs": [],
   "source": [
    "# Define new independent claim\n",
    "c1n = [1,4]"
   ]
  },
  {
   "cell_type": "markdown",
   "metadata": {},
   "source": [
    "Run the following cell to generate all new claim combinations and a list of new proper dependent claims.\n",
    "\n",
    "Note: Proper dependent claims may intuitively be combined to form semi-proper or improper dependent claims."
   ]
  },
  {
   "cell_type": "code",
   "execution_count": 44,
   "metadata": {},
   "outputs": [
    {
     "name": "stdout",
     "output_type": "stream",
     "text": [
      "Confirming that new independent claim 1 combines the features of the following claims: [1, 4]\n",
      "Total new valid claim combinations: 4\n",
      "New valid claim combinations:\n",
      "001: [1, 4]\n",
      "002: [1, 4, 2]\n",
      "003: [1, 4, 6]\n",
      "004: [1, 4, 2, 6]\n",
      "List of new valid proper dependent claims:\n",
      "The features of claim [2] combined with the features of claims [1, 4]\n",
      "The features of claim [6] combined with the features of claims [1, 4]\n",
      "The features of claim [6] combined with the features of claims [1, 4, 2]\n"
     ]
    }
   ],
   "source": [
    "# Part II - DO NOT EDIT\n",
    "\n",
    "print(\"Confirming that new independent claim 1 combines the features of the following claims:\", c1n)\n",
    "\n",
    "# Generate all new valid claim combinations\n",
    "vcombos = []\n",
    "\n",
    "for combo in combos:\n",
    "    add = True\n",
    "    for f in c1n:\n",
    "        found = False\n",
    "        for i in combo:\n",
    "            if f == i:\n",
    "                found = True\n",
    "                break\n",
    "        if found == False:\n",
    "            add = False\n",
    "            break \n",
    "    if add == True:\n",
    "        vcombos.append(combo)\n",
    "\n",
    "# Generate ordered combinations\n",
    "vcombos.sort(key=len)\n",
    "vcombosrs = []\n",
    "\n",
    "# Reorder such that new independent claim at front\n",
    "for combo in vcombos:\n",
    "    icombo = copy.copy(combo)\n",
    "    ncombo = copy.copy(c1n)\n",
    "    for i in c1n:\n",
    "        icombo.remove(i)\n",
    "    ncombo += icombo\n",
    "    vcombosrs.append(ncombo)\n",
    "\n",
    "vcombos = vcombosrs\n",
    "vcombos.sort(key=len)\n",
    "\n",
    "print(\"Total new valid claim combinations:\", len(vcombos))\n",
    "print(\"New valid claim combinations:\")\n",
    "for n in range(0,len(vcombos)):\n",
    "    print(\"{:03}: {}\".format(n+1, vcombos[n]))\n",
    "\n",
    "# Generate proper dependent claims\n",
    "dclaims = []\n",
    "\n",
    "for i in range(0,len(vcombos)):\n",
    "    for n in range(i+1,len(vcombos)):\n",
    "        if len(vcombos[n]) - len(vcombos[i]) == 1:\n",
    "            if vcombos[n][0:len(vcombos[i])] == vcombos[i]:\n",
    "                dclaims.append([vcombos[n][-1], vcombos[i]])\n",
    "\n",
    "dclaims.sort()\n",
    "\n",
    "print(\"List of new valid proper dependent claims:\")\n",
    "for claim in dclaims:\n",
    "    print(\"The features of claim\", [claim[0]], \"combined with the features of claims\", claim[1])"
   ]
  },
  {
   "cell_type": "code",
   "execution_count": null,
   "metadata": {},
   "outputs": [],
   "source": []
  }
 ],
 "metadata": {
  "kernelspec": {
   "display_name": "Python 3",
   "language": "python",
   "name": "python3"
  },
  "language_info": {
   "codemirror_mode": {
    "name": "ipython",
    "version": 3
   },
   "file_extension": ".py",
   "mimetype": "text/x-python",
   "name": "python",
   "nbconvert_exporter": "python",
   "pygments_lexer": "ipython3",
   "version": "3.8.5"
  }
 },
 "nbformat": 4,
 "nbformat_minor": 4
}
